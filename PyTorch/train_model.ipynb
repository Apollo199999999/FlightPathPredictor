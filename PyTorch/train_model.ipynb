{
 "cells": [
  {
   "cell_type": "markdown",
   "id": "847e8d5a",
   "metadata": {},
   "source": [
    "# Train a Transformer model to predict the flight path of a plane"
   ]
  },
  {
   "cell_type": "markdown",
   "id": "d2c77d11",
   "metadata": {},
   "source": [
    "This notebook assumes that you have ran the previous notebook to obtain training data, `retrieve_flight_training_data.ipynb`, and that PyTorch (and other standard data science related libraries) are already installed."
   ]
  },
  {
   "cell_type": "markdown",
   "id": "c9400cf6",
   "metadata": {},
   "source": [
    "## 1. Imports and global variables"
   ]
  },
  {
   "cell_type": "code",
   "execution_count": 21,
   "id": "ba9f4c76",
   "metadata": {},
   "outputs": [
    {
     "name": "stdout",
     "output_type": "stream",
     "text": [
      "cuda\n"
     ]
    }
   ],
   "source": [
    "# Import necessary libraries\n",
    "import torch\n",
    "import torchvision\n",
    "import torchvision.transforms as transforms\n",
    "from torchvision import models\n",
    "import torch.nn as nn\n",
    "import torch.optim as optim\n",
    "import matplotlib.pyplot as plt\n",
    "import numpy as np\n",
    "import os\n",
    "import pandas as pd\n",
    "import math\n",
    "\n",
    "# Check device\n",
    "device = torch.device(\"cuda\" if torch.cuda.is_available() else \"cpu\")\n",
    "print(device)\n",
    "\n",
    "# Context size of our custom model\n",
    "context_size = 2048"
   ]
  },
  {
   "cell_type": "markdown",
   "id": "fca72b99",
   "metadata": {},
   "source": [
    "## 2. Create a custom Dataset class"
   ]
  },
  {
   "cell_type": "code",
   "execution_count": 22,
   "id": "d8768955",
   "metadata": {},
   "outputs": [],
   "source": [
    "class FlightDataset(torch.utils.data.Dataset):\n",
    "    def __init__(self):\n",
    "        super().__init__()\n",
    "        # We are going to feed in positional data in batches of 1024 positions (we add 1 because when we get data we minus off last/first data point)\n",
    "        self.max_len = 1024 + 1\n",
    "\n",
    "        # We will not load all 80k csv files at once, we will load them on demand during training\n",
    "        # However, we will need to keep a record of which files correspond to which data points, so we can get them by index\n",
    "        self.train_files = []\n",
    "        self.train_sections = []\n",
    "        \n",
    "        for file in os.listdir(\"./data/csv\"):\n",
    "            if file.endswith(\".csv\") == False:\n",
    "                continue\n",
    "            # Read csv file and keep a record of it in the training lists\n",
    "            csv_path = os.path.join(\"./data/csv\", file)\n",
    "            with open(csv_path) as fp:\n",
    "                count = 0\n",
    "                for _ in fp:\n",
    "                    count += 1\n",
    "                # Exclude header row\n",
    "                count -= 1\n",
    "                num_sections = math.floor(count / self.max_len) + 1\n",
    "                for i in range(num_sections):\n",
    "                    self.train_files.append(csv_path)\n",
    "                    self.train_sections.append(i)\n",
    "    \n",
    "    def __len__(self):\n",
    "        return len(self.train_files)\n",
    "\n",
    "    def __getitem__(self, idx):\n",
    "        # Read corresponding csv file\n",
    "        csv_reader = pd.read_csv(self.train_files[idx])\n",
    "\n",
    "        # Convert csv data into a tensor\n",
    "        pos_embedding = torch.tensor(csv_reader.values, dtype=torch.float)\n",
    "        pos_embedding = pos_embedding.view(1, -1, 6)\n",
    "\n",
    "         # Split tensor based on max_len\n",
    "        num_sections = math.floor(pos_embedding.size()[1] / self.max_len) + 1\n",
    "        embedding_list = torch.tensor_split(pos_embedding, num_sections, dim=1)\n",
    "        \n",
    "        # Get the tensor to return\n",
    "        pos_sentence = embedding_list[self.train_sections[idx]]\n",
    "        \n",
    "        # Pad if necessary\n",
    "        tensor_length = pos_sentence.size()[1]\n",
    "        if tensor_length < self.max_len:\n",
    "            num_to_pad = self.max_len - tensor_length\n",
    "            zero_tensor = torch.zeros([1, num_to_pad, 6])\n",
    "            pos_sentence = torch.cat((pos_sentence, zero_tensor), 1)\n",
    "\n",
    "        pos_sentence = torch.squeeze(pos_sentence)\n",
    "\n",
    "        # For faster training, divide the values in the embedding\n",
    "        div_tensor = torch.tensor([90,  180, 10000, 1000, 360, 10000])\n",
    "        pos_sentence = torch.div(pos_sentence, div_tensor)\n",
    "        \n",
    "        return pos_sentence[:-1], pos_sentence[1:]\n",
    "                "
   ]
  },
  {
   "cell_type": "code",
   "execution_count": 23,
   "id": "50183051-0f22-4db5-8acb-92070bf7e402",
   "metadata": {},
   "outputs": [
    {
     "name": "stdout",
     "output_type": "stream",
     "text": [
      "tensor([[ 0.3717, -0.6209,  0.0250,  0.1058,  0.1486,  0.0032],\n",
      "        [ 0.3718, -0.6209,  0.0250,  0.1037,  0.1556,  0.0013],\n",
      "        [ 0.3718, -0.6209,  0.0250,  0.1043,  0.1542, -0.0013],\n",
      "        ...,\n",
      "        [ 0.0000,  0.0000,  0.0000,  0.0000,  0.0000,  0.0000],\n",
      "        [ 0.0000,  0.0000,  0.0000,  0.0000,  0.0000,  0.0000],\n",
      "        [ 0.0000,  0.0000,  0.0000,  0.0000,  0.0000,  0.0000]])\n",
      "tensor([[ 0.3718, -0.6209,  0.0250,  0.1037,  0.1556,  0.0013],\n",
      "        [ 0.3718, -0.6209,  0.0250,  0.1043,  0.1542, -0.0013],\n",
      "        [ 0.3718, -0.6208,  0.0250,  0.1042,  0.1467, -0.0032],\n",
      "        ...,\n",
      "        [ 0.0000,  0.0000,  0.0000,  0.0000,  0.0000,  0.0000],\n",
      "        [ 0.0000,  0.0000,  0.0000,  0.0000,  0.0000,  0.0000],\n",
      "        [ 0.0000,  0.0000,  0.0000,  0.0000,  0.0000,  0.0000]])\n"
     ]
    }
   ],
   "source": [
    "# Test our custom dataset\n",
    "dataset = FlightDataset()\n",
    "sample, target = dataset.__getitem__(69)\n",
    "print(sample)\n",
    "print(target)"
   ]
  },
  {
   "cell_type": "markdown",
   "id": "252c1b5d-1eae-4706-b4a7-d2e3bc1a7525",
   "metadata": {},
   "source": [
    "## 3. Building the model"
   ]
  },
  {
   "cell_type": "markdown",
   "id": "bf959203-2743-4f5a-a89d-9e194fdd6f5c",
   "metadata": {},
   "source": [
    "### Position embedding"
   ]
  },
  {
   "cell_type": "code",
   "execution_count": 24,
   "id": "768549b0-3da6-4a96-aeeb-d2fc1a4a20f1",
   "metadata": {},
   "outputs": [],
   "source": [
    "class PositionEmbedding(torch.nn.Module):\n",
    "    \"\"\"Token and positioning embedding layer for a sequence.\"\"\"\n",
    "    def __init__(self):\n",
    "        \"\"\"Init variables and layers.\"\"\"\n",
    "        super().__init__()\n",
    "        \n",
    "        self.position_emb = torch.nn.Embedding(num_embeddings=context_size, embedding_dim=6)\n",
    "    \n",
    "    def forward(self, x):\n",
    "        \"\"\"Forward Pass.\"\"\"\n",
    "        len_input = x.size()[1]\n",
    "        positions = torch.arange(start=0, end=len_input, step=1).to(device)\n",
    "        position_embedding = self.position_emb(positions)\n",
    "        return x + position_embedding"
   ]
  },
  {
   "cell_type": "markdown",
   "id": "7d64c265-5d3e-4465-a768-d5024a3707bc",
   "metadata": {},
   "source": [
    "### Attention mask function"
   ]
  },
  {
   "cell_type": "code",
   "execution_count": 25,
   "id": "348599e8-50ef-46f8-ae36-c7da24391a65",
   "metadata": {},
   "outputs": [],
   "source": [
    "def create_attention_mask(key_length, query_length, dtype):\n",
    "    \"\"\"\n",
    "    Create a Casual Mask for\n",
    "    the multi head attention layer.\n",
    "    \"\"\"\n",
    "    i = torch.arange(query_length)[:, None]\n",
    "    j = torch.arange(key_length)\n",
    "    mask = i >= j - key_length + query_length\n",
    "    mask = torch.logical_not(mask)\n",
    "    mask = mask.to(dtype)\n",
    "    return mask"
   ]
  },
  {
   "cell_type": "markdown",
   "id": "b82c3b51-72fc-4a61-859a-4574d55ceb7e",
   "metadata": {},
   "source": [
    "### Transformer block"
   ]
  },
  {
   "cell_type": "code",
   "execution_count": 26,
   "id": "1d6bbb56-851a-42c4-b46a-28d32c746b3a",
   "metadata": {},
   "outputs": [],
   "source": [
    "class TransformerBlock(torch.nn.Module):\n",
    "    \"\"\"Transformer Block Layer.\"\"\"\n",
    "    def __init__(self, num_heads, embed_dim, ff_dim, mask_function, dropout_rate=0.1):\n",
    "        \"\"\"Init variables and layers.\"\"\"\n",
    "        super().__init__()\n",
    "        self.attn = torch.nn.MultiheadAttention(\n",
    "          embed_dim=embed_dim,\n",
    "          num_heads=num_heads,\n",
    "          batch_first=True,\n",
    "        )\n",
    "        self.dropout_1 = torch.nn.Dropout(p=dropout_rate)\n",
    "        self.layer_norm_1 = torch.nn.LayerNorm(\n",
    "          normalized_shape=embed_dim, eps=1e-6\n",
    "        )\n",
    "        self.ffn_1 = torch.nn.Linear(\n",
    "          in_features=embed_dim, out_features=ff_dim\n",
    "        )\n",
    "        self.ffn_2 = torch.nn.Linear(\n",
    "          in_features=ff_dim, out_features=embed_dim\n",
    "        )\n",
    "        self.dropout_2 = torch.nn.Dropout(p=dropout_rate)\n",
    "        self.layer_norm_2 = torch.nn.LayerNorm(\n",
    "          normalized_shape=embed_dim, eps=1e-6\n",
    "        )\n",
    "        self.mask_function = mask_function\n",
    "        \n",
    "    def forward(self, inputs: torch.Tensor) -> torch.Tensor:\n",
    "        \"\"\"Forward Pass.\"\"\"\n",
    "        seq_len = inputs.size()[1]\n",
    "        mask = self.mask_function(seq_len, seq_len, torch.bool).to(device)\n",
    "        attention_output, _ = self.attn(\n",
    "        query=inputs, key=inputs, value=inputs, attn_mask=mask\n",
    "        )\n",
    "        attention_output = self.dropout_1(attention_output)\n",
    "        out1 = self.layer_norm_1(inputs + attention_output)\n",
    "        ffn_1 = self.ffn_1(out1)\n",
    "        ffn_2 = self.ffn_2(ffn_1)\n",
    "        ffn_output = self.dropout_2(ffn_2)\n",
    "        output = self.layer_norm_2(out1 + ffn_output)\n",
    "        return output"
   ]
  },
  {
   "cell_type": "markdown",
   "id": "c1c77c53-c73d-414d-914f-4b9a45cae4fd",
   "metadata": {},
   "source": [
    "### Final model"
   ]
  },
  {
   "cell_type": "code",
   "execution_count": 27,
   "id": "781d62d0-6328-4348-83cf-07d96c8a8d33",
   "metadata": {},
   "outputs": [],
   "source": [
    "class FlightModel(torch.nn.Module):\n",
    "  def __init__(self, feed_forward_dim, num_heads):\n",
    "    \"\"\"Init Function.\"\"\"\n",
    "    super().__init__()\n",
    "    self.embedding_layer = PositionEmbedding()\n",
    "    self.transformer_layers = []\n",
    "    for i in range(6):\n",
    "        transformer = TransformerBlock(\n",
    "          num_heads=num_heads,\n",
    "          embed_dim=6,\n",
    "          ff_dim=feed_forward_dim,\n",
    "          mask_function=create_attention_mask,\n",
    "        ).to(device)\n",
    "        self.transformer_layers.append(transformer)\n",
    "        \n",
    "    self.output_layer = torch.nn.Linear(6, 6)\n",
    "\n",
    "  def forward(self, input_tensor):\n",
    "    \"\"\"Forward Pass.\"\"\"\n",
    "    # Position embedding\n",
    "    embedding = self.embedding_layer(input_tensor)\n",
    "    # Transformer layers\n",
    "    transformer_output = self.transformer_layers[0](embedding)\n",
    "    for i in range(1, len(self.transformer_layers)):\n",
    "        transformer_output = self.transformer_layers[i](transformer_output)\n",
    "    # FC network\n",
    "    output = self.output_layer(transformer_output)\n",
    "    return output"
   ]
  },
  {
   "cell_type": "markdown",
   "id": "972110f5-1ffb-45e0-a20f-c1d1c3d610fb",
   "metadata": {},
   "source": [
    "## 4. Training"
   ]
  },
  {
   "cell_type": "code",
   "execution_count": 32,
   "id": "ac420ef2-b00d-4cc6-956c-33c5fef6407b",
   "metadata": {},
   "outputs": [
    {
     "name": "stdout",
     "output_type": "stream",
     "text": [
      "Loading Data...\n",
      "Training Started.\n",
      "Epoch 1/100, Train Loss: 0.3450610265135765\n",
      "Epoch 2/100, Train Loss: 0.3344075679779053\n",
      "Epoch 3/100, Train Loss: 0.3246411085128784\n",
      "Epoch 4/100, Train Loss: 0.3142469748854637\n",
      "Epoch 5/100, Train Loss: 0.3030042499303818\n",
      "Epoch 6/100, Train Loss: 0.2948286011815071\n",
      "Epoch 7/100, Train Loss: 0.2857727035880089\n",
      "Epoch 8/100, Train Loss: 0.2772083207964897\n",
      "Epoch 9/100, Train Loss: 0.26892978698015213\n",
      "Epoch 10/100, Train Loss: 0.2590898536145687\n",
      "Epoch 11/100, Train Loss: 0.251207135617733\n",
      "Epoch 12/100, Train Loss: 0.24489275738596916\n",
      "Epoch 13/100, Train Loss: 0.2370755970478058\n",
      "Epoch 14/100, Train Loss: 0.23133810237050056\n",
      "Epoch 15/100, Train Loss: 0.2239723950624466\n",
      "Epoch 16/100, Train Loss: 0.21804337948560715\n",
      "Epoch 17/100, Train Loss: 0.21247121691703796\n",
      "Epoch 18/100, Train Loss: 0.20767833665013313\n",
      "Epoch 19/100, Train Loss: 0.20176894217729568\n",
      "Epoch 20/100, Train Loss: 0.19519276544451714\n",
      "Epoch 21/100, Train Loss: 0.19046572223305702\n",
      "Epoch 22/100, Train Loss: 0.18559053167700768\n",
      "Epoch 23/100, Train Loss: 0.1808416247367859\n",
      "Epoch 24/100, Train Loss: 0.1763175204396248\n",
      "Epoch 25/100, Train Loss: 0.17195305973291397\n",
      "Epoch 26/100, Train Loss: 0.16856132820248604\n",
      "Epoch 27/100, Train Loss: 0.16602277383208275\n",
      "Epoch 28/100, Train Loss: 0.1596112661063671\n",
      "Epoch 29/100, Train Loss: 0.15598836168646812\n",
      "Epoch 30/100, Train Loss: 0.15407666936516762\n",
      "Epoch 31/100, Train Loss: 0.15073823556303978\n",
      "Epoch 32/100, Train Loss: 0.14493179693818092\n",
      "Epoch 33/100, Train Loss: 0.1419415920972824\n",
      "Epoch 34/100, Train Loss: 0.13975809141993523\n",
      "Epoch 35/100, Train Loss: 0.13758954778313637\n",
      "Epoch 36/100, Train Loss: 0.13367857411503792\n",
      "Epoch 37/100, Train Loss: 0.13119568675756454\n",
      "Epoch 38/100, Train Loss: 0.12798544019460678\n",
      "Epoch 39/100, Train Loss: 0.12604105100035667\n",
      "Epoch 40/100, Train Loss: 0.12361793033778667\n",
      "Epoch 41/100, Train Loss: 0.12010855041444302\n",
      "Epoch 42/100, Train Loss: 0.11727739684283733\n",
      "Epoch 43/100, Train Loss: 0.11523941531777382\n",
      "Epoch 44/100, Train Loss: 0.11388354748487473\n",
      "Epoch 45/100, Train Loss: 0.11106143519282341\n",
      "Epoch 46/100, Train Loss: 0.10896652936935425\n",
      "Epoch 47/100, Train Loss: 0.10663969814777374\n",
      "Epoch 48/100, Train Loss: 0.10449089109897614\n",
      "Epoch 49/100, Train Loss: 0.10263212025165558\n",
      "Epoch 50/100, Train Loss: 0.10050255060195923\n",
      "Epoch 51/100, Train Loss: 0.09850430861115456\n",
      "Epoch 52/100, Train Loss: 0.09731721878051758\n",
      "Epoch 53/100, Train Loss: 0.09675152041018009\n",
      "Epoch 54/100, Train Loss: 0.09390214830636978\n",
      "Epoch 55/100, Train Loss: 0.09298604354262352\n",
      "Epoch 56/100, Train Loss: 0.0914174634963274\n",
      "Epoch 57/100, Train Loss: 0.08928318321704865\n",
      "Epoch 58/100, Train Loss: 0.0888454057276249\n",
      "Epoch 59/100, Train Loss: 0.086005799472332\n",
      "Epoch 60/100, Train Loss: 0.08470149897038937\n",
      "Epoch 61/100, Train Loss: 0.08345322124660015\n",
      "Epoch 62/100, Train Loss: 0.08404613845050335\n",
      "Epoch 63/100, Train Loss: 0.08151732571423054\n",
      "Epoch 64/100, Train Loss: 0.08088298700749874\n",
      "Epoch 65/100, Train Loss: 0.07937302812933922\n",
      "Epoch 66/100, Train Loss: 0.078162781894207\n",
      "Epoch 67/100, Train Loss: 0.07669006288051605\n",
      "Epoch 68/100, Train Loss: 0.07531734742224216\n",
      "Epoch 69/100, Train Loss: 0.07484558410942554\n",
      "Epoch 70/100, Train Loss: 0.07395220547914505\n",
      "Epoch 71/100, Train Loss: 0.07299954257905483\n",
      "Epoch 72/100, Train Loss: 0.07213255949318409\n",
      "Epoch 73/100, Train Loss: 0.07168780826032162\n",
      "Epoch 74/100, Train Loss: 0.07031910493969917\n",
      "Epoch 75/100, Train Loss: 0.06981693208217621\n",
      "Epoch 76/100, Train Loss: 0.0684449477121234\n",
      "Epoch 77/100, Train Loss: 0.06791575625538826\n",
      "Epoch 78/100, Train Loss: 0.06765475682914257\n",
      "Epoch 79/100, Train Loss: 0.06581798568367958\n",
      "Epoch 80/100, Train Loss: 0.06711073778569698\n",
      "Epoch 81/100, Train Loss: 0.06574879493564367\n",
      "Epoch 82/100, Train Loss: 0.06454198062419891\n",
      "Epoch 83/100, Train Loss: 0.06352025084197521\n",
      "Epoch 84/100, Train Loss: 0.06352282781153917\n",
      "Epoch 85/100, Train Loss: 0.06317696254700422\n",
      "Epoch 86/100, Train Loss: 0.06171025522053242\n",
      "Epoch 87/100, Train Loss: 0.06239314377307892\n",
      "Epoch 88/100, Train Loss: 0.06166725419461727\n",
      "Epoch 89/100, Train Loss: 0.06171577703207731\n",
      "Epoch 90/100, Train Loss: 0.0604095458984375\n",
      "Epoch 91/100, Train Loss: 0.059302231296896935\n",
      "Epoch 92/100, Train Loss: 0.05999189522117376\n",
      "Epoch 93/100, Train Loss: 0.05987693648785353\n",
      "Epoch 94/100, Train Loss: 0.0590007733553648\n",
      "Epoch 95/100, Train Loss: 0.058185892179608345\n",
      "Epoch 96/100, Train Loss: 0.057820651680231094\n",
      "Epoch 97/100, Train Loss: 0.05682517308741808\n",
      "Epoch 98/100, Train Loss: 0.05629157926887274\n",
      "Epoch 99/100, Train Loss: 0.05662958323955536\n",
      "Epoch 100/100, Train Loss: 0.057245440781116486\n"
     ]
    }
   ],
   "source": [
    "model = FlightModel(24, 1).to(device)\n",
    "criterion = torch.nn.MSELoss()\n",
    "optimizer = torch.optim.Adam(params=filter(lambda param: param.requires_grad, model.parameters()), lr=0.0001)\n",
    "print(\"Loading Data...\")\n",
    "train_dataset = FlightDataset()\n",
    "train_loader = torch.utils.data.DataLoader(train_dataset, batch_size=64, shuffle=True)\n",
    "train_losses = []\n",
    "\n",
    "def train_network(model, num_epochs):\n",
    "    \"\"\"Train the Network.\"\"\"\n",
    "    print(\"Training Started.\")\n",
    "    \n",
    "    for epoch in range(1, num_epochs + 1):\n",
    "        running_train_loss = 0.0\n",
    "        model.train()\n",
    "        for batch in train_loader:\n",
    "            optimizer.zero_grad()\n",
    "            x = batch[0].to(device)\n",
    "            y = batch[1].to(device)\n",
    "            outputs = model(x)\n",
    "            loss = criterion(outputs, y)\n",
    "            loss.backward()\n",
    "            optimizer.step()\n",
    "            running_train_loss += loss.item()\n",
    "        \n",
    "        print(f\"Epoch {epoch}/{num_epochs}, Train Loss: {running_train_loss / len(train_loader)}\")\n",
    "        train_losses.append(running_train_loss / len(train_loader))\n",
    "\n",
    "train_network(model, 100)"
   ]
  },
  {
   "cell_type": "code",
   "execution_count": 33,
   "id": "82a90582-d830-4a47-a451-bdc9fa88ec94",
   "metadata": {},
   "outputs": [
    {
     "data": {
      "image/png": "[encoded data removed]",
      "text/plain": [
       "<Figure size 640x480 with 1 Axes>"
      ]
     },
     "metadata": {},
     "output_type": "display_data"
    }
   ],
   "source": [
    "plt.plot(train_losses, label=\"Train Loss\")\n",
    "plt.legend()\n",
    "plt.title(\"Training Loss\")\n",
    "plt.xlabel(\"Epochs\")\n",
    "plt.ylabel(\"Loss\")\n",
    "plt.show()"
   ]
  },
  {
   "cell_type": "markdown",
   "id": "146a163d-a6f6-4a57-a9e3-1a80dfd0d9eb",
   "metadata": {},
   "source": [
    "## 5. Save model"
   ]
  },
  {
   "cell_type": "code",
   "execution_count": 34,
   "id": "1d965549-628b-4a71-9968-c63362528f81",
   "metadata": {},
   "outputs": [],
   "source": [
    "torch.save(model.state_dict(), \"./flight_prediction_model_exp.pt\")"
   ]
  }
 ],
 "metadata": {
  "kernelspec": {
   "display_name": "Python 3 (ipykernel)",
   "language": "python",
   "name": "python3"
  },
  "language_info": {
   "codemirror_mode": {
    "name": "ipython",
    "version": 3
   },
   "file_extension": ".py",
   "mimetype": "text/x-python",
   "name": "python",
   "nbconvert_exporter": "python",
   "pygments_lexer": "ipython3",
   "version": "3.10.0"
  }
 },
 "nbformat": 4,
 "nbformat_minor": 5
}
